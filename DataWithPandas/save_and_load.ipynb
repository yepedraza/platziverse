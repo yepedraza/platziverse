{
 "cells": [
  {
   "cell_type": "code",
   "execution_count": null,
   "metadata": {},
   "outputs": [],
   "source": [
    "import pandas as pd\n",
    "import numpy as np"
   ]
  },
  {
   "cell_type": "code",
   "execution_count": null,
   "metadata": {},
   "outputs": [],
   "source": [
    "dict_data = {\n",
    "    'Age' :     [ 10, 9, 13, 14, 12, 11, 12],\n",
    "    'Height' : [ 115, 110, 130, 155, 125, 120, 125],\n",
    "    'Country' :  [ 'co', 'mx', 'co', 'mx', 'mx', 'ch', 'ch'],\n",
    "    'Genre' : [ 'M', 'F', 'F', 'M', 'M', 'M', 'F'],\n",
    "    'Q1' : [ 5, 10, 8, np.nan, 7, 8, 3],\n",
    "    'Q2' : [ 7, 9, 9, 8, 8, 8, 9.]\n",
    "}\n",
    "dict_data"
   ]
  },
  {
   "cell_type": "code",
   "execution_count": null,
   "metadata": {},
   "outputs": [],
   "source": [
    "df = pd.DataFrame(dict_data)\n",
    "df"
   ]
  },
  {
   "cell_type": "code",
   "execution_count": null,
   "metadata": {},
   "outputs": [],
   "source": [
    "dir_pandas = '/content/drive/My Drive/Colab Notebooks/db/{}'.format('test.csv')\n",
    "dir_pandas"
   ]
  },
  {
   "cell_type": "code",
   "execution_count": null,
   "metadata": {},
   "outputs": [],
   "source": [
    "df.to_csv(dir_pandas, index = False)"
   ]
  },
  {
   "cell_type": "code",
   "execution_count": null,
   "metadata": {},
   "outputs": [],
   "source": [
    "df_read = pd.read_csv('/content/drive/My Drive/Colab Notebooks/db/test.csv', sep = '|')\n",
    "df_read"
   ]
  },
  {
   "cell_type": "code",
   "execution_count": null,
   "metadata": {},
   "outputs": [],
   "source": [
    "df.to_csv(dir_pandas, sep = '|', index = False)"
   ]
  },
  {
   "cell_type": "code",
   "execution_count": null,
   "metadata": {},
   "outputs": [],
   "source": [
    "df.to_excel(dir_pandas.format('test.xlsx'), index=False, sheet_name='Hoja_uno')"
   ]
  },
  {
   "cell_type": "code",
   "execution_count": null,
   "metadata": {},
   "outputs": [],
   "source": [
    "dir_pandas.format('test.xlsx')"
   ]
  },
  {
   "cell_type": "code",
   "execution_count": null,
   "metadata": {},
   "outputs": [],
   "source": [
    "pd.read_excel(dir_pandas.format('test.xlsx'))"
   ]
  },
  {
   "cell_type": "code",
   "execution_count": null,
   "metadata": {},
   "outputs": [],
   "source": [
    "df.to_json(dir_pandas.format('test.json'))\n",
    "\n",
    "pd.read_json(dir_pandas.format('test.json'))"
   ]
  },
  {
   "cell_type": "code",
   "execution_count": null,
   "metadata": {},
   "outputs": [],
   "source": [
    "df.to_pickle(dir_pandas.format('test.pkl'))\n",
    "\n",
    "pd.read_pickle(dir_pandas.format('test.pkl'))"
   ]
  },
  {
   "cell_type": "code",
   "execution_count": null,
   "metadata": {},
   "outputs": [],
   "source": [
    "df.to_parquet(dir_pandas.format('test.parquet'))\n",
    "\n",
    "pd.read_parquet(dir_pandas.format('test.parquet'))\n"
   ]
  },
  {
   "cell_type": "code",
   "execution_count": null,
   "metadata": {},
   "outputs": [],
   "source": [
    "df.to_hdf(dir_pandas.format('test.hdf'),key='data',format='table')\n",
    "\n",
    "\n",
    "pd.read_hdf(dir_pandas.format('test.hdf'))"
   ]
  },
  {
   "cell_type": "markdown",
   "metadata": {},
   "source": [
    "### Notes:\n",
    "\n",
    "* CSV - It is very versatile since it only has commas and line breaks\n",
    "* JSON - Has a format very similar to that of a Python dictionary\n",
    "* Excel - Allows you to save the file in .xls format to work with it in Excel or Spreadsheets\n",
    "* Pickle - Allows you to compress the information, it is useful when you have large tables\n",
    "* Parquet - Allows you to give it a format that can be used in Big Data environments such as Hadoop \n",
    "\n",
    "[Documentation](https://pandas.pydata.org/pandas-docs/stable/user_guide/io.html)"
   ]
  }
 ],
 "metadata": {
  "language_info": {
   "name": "python"
  },
  "orig_nbformat": 4
 },
 "nbformat": 4,
 "nbformat_minor": 2
}
